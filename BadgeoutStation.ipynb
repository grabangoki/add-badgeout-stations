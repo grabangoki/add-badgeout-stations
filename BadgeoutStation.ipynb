{
 "cells": [
  {
   "cell_type": "markdown",
   "id": "b5944484-cfd2-450d-800c-9eebe93a1ee0",
   "metadata": {},
   "source": [
    "# Adding Badgeout Station to Stores"
   ]
  },
  {
   "cell_type": "markdown",
   "id": "4e928722-dbad-4786-806d-e4830531ac26",
   "metadata": {},
   "source": [
    "## Some definitions"
   ]
  },
  {
   "cell_type": "code",
   "execution_count": null,
   "id": "5049101a-9b6c-4ec4-beb5-c6a86a305305",
   "metadata": {},
   "outputs": [],
   "source": [
    "import requests\n",
    "from requests.auth import HTTPBasicAuth"
   ]
  },
  {
   "cell_type": "code",
   "execution_count": null,
   "id": "14a9620d-c1a7-421f-8153-2a8632d0b834",
   "metadata": {},
   "outputs": [],
   "source": [
    "# For production\n",
    "# namespace = \"fcr-badgeout-fhrp869iwhncz8bimlgjbp3ddglhgvg6\"\n",
    "# machinaccess = False\n",
    "\n",
    "# For testing\n",
    "namespace = \"ki\"\n",
    "machineaccess = True\n",
    "\n",
    "# Get them from 1password (for testing only)\n",
    "user = \"\"\n",
    "password = \"\""
   ]
  },
  {
   "cell_type": "code",
   "execution_count": null,
   "id": "cd1e214e-f7f4-4037-8440-8007373cede2",
   "metadata": {},
   "outputs": [],
   "source": [
    "class ShopperData:\n",
    "    \n",
    "    def __init__(self, namespace, machineaccess=False):\n",
    "        if machineaccess:\n",
    "            self._base_url = f\"https://{namespace}-machineaccess.svcs-dev.gbo/shopperdata/api/v1\"\n",
    "        else: \n",
    "            self._base_url = f\"https://{namespace}.svcs.gbo/shopperdata/api/v1\"\n",
    "        self._brands = []\n",
    "    \n",
    "    def _requests(self, method, url, payload=None):\n",
    "        if method == \"get\":\n",
    "            request_object = requests.get\n",
    "        elif method == \"put\":\n",
    "            request_object = requests.put\n",
    "        elif method == \"post\":\n",
    "            request_object = requests.post\n",
    "        else:\n",
    "            raise Exception(\"Unrecognized method\")\n",
    "        \n",
    "        try:\n",
    "            if payload is None:\n",
    "                r = request_object(url, verify=False, auth=HTTPBasicAuth(user, password))\n",
    "            else:\n",
    "                r = request_object(url, verify=False, json=payload, auth=HTTPBasicAuth(user, password))\n",
    "            r.raise_for_status()\n",
    "            return r.json()\n",
    "        except Exception as e:\n",
    "            print(e)\n",
    "\n",
    "    def _update_store_brands(self):\n",
    "        \"\"\"\n",
    "        Grabs all store brands in ShopperDB and save it in memory.\n",
    "        \"\"\"\n",
    "        r = self._requests(\"get\", self._base_url + \"/store_brands\")\n",
    "        try:\n",
    "            self._brands = r['data']\n",
    "        except Exception as e:\n",
    "            self._brands = []\n",
    "    \n",
    "    def get_brand_by_name(self, name):\n",
    "        \"\"\"\n",
    "        Get one particular store brand by its *real* name. Returns list.\n",
    "        \"\"\"\n",
    "        if not self._brands:\n",
    "            self._update_store_brands()\n",
    "        return list(filter(lambda x: x[\"store_name\"].lower() == name.lower(), self._brands))\n",
    "    \n",
    "    def get_all_stores(self, name):\n",
    "        \"\"\"\n",
    "        Get all stores with store brand name.\n",
    "        \n",
    "        Returns a list of store_uuid and first line of street address\n",
    "        \"\"\"\n",
    "        try:\n",
    "            brand = self.get_brand_by_name(name)[0]\n",
    "        except Exception as e:\n",
    "            print(\"get all stores failed\", e)\n",
    "            print(\"No stores with the name. Did you use the correct name?\")\n",
    "            return []\n",
    "        \n",
    "        store_brand_uuid = brand[\"external_uuid\"]\n",
    "        try: \n",
    "            r = self._requests(\"get\", self._base_url + f\"/store_brands/{store_brand_uuid}/stores\")\n",
    "            return [{\"store_uuid\": store[\"external_uuid\"], \"address\": store[\"address_line1\"], \"store_id\": store[\"id\"]} for store in r[\"data\"]]\n",
    "        except Exception as e:\n",
    "            print(f\"Something went wrong: {e}\")\n",
    "            return []\n",
    "            \n",
    "    def add_badgeout_station(self, store_uuid, badgeout_station_id, status_override=\"active\"):\n",
    "        \"\"\"\n",
    "        Adds a new badgeout station to the store. Will fail if badgeout_station_id is already in use. Use update in that case.\n",
    "        \"\"\"\n",
    "        payload = dict(\n",
    "            badgeout_station_id=badgeout_station_id,\n",
    "            store_uuid=store_uuid,\n",
    "            status_override=status_override\n",
    "        )\n",
    "        url = self._base_url + \"/badgeout_stations/\"\n",
    "        return self._requests(\"post\", url, payload=payload)\n",
    "\n",
    "            \n",
    "    def get_badgeout_station(self, badgeout_station_id):\n",
    "        \"\"\"\n",
    "        Gets information about badgeout station. Useful to check if it got added properly.\n",
    "        \"\"\"\n",
    "        return self._requests(\"get\", self._base_url + f\"/badgeout_stations/{badgeout_station_id}\")\n",
    "        \n",
    "    def update_badgeout_station(self, store_uuid, badgeout_station_id, status_override=\"active\"):\n",
    "        \"\"\"\n",
    "        Updates existing badgeout station.\n",
    "        \"\"\"\n",
    "        payload = dict(\n",
    "            store_uuid=store_uuid,\n",
    "            status_override=status_override\n",
    "        )\n",
    "        return self._requests(\"put\", self._base_url + f\"/badgeout_stations/{badgeout_station_id}\", payload=payload)"
   ]
  },
  {
   "cell_type": "markdown",
   "id": "91ff566e-ecea-4671-9094-1d73349e4169",
   "metadata": {},
   "source": [
    "## Get store_uuid"
   ]
  },
  {
   "cell_type": "code",
   "execution_count": null,
   "id": "2b341d54-3ae7-4e48-a119-55b554c58cd9",
   "metadata": {},
   "outputs": [],
   "source": [
    "shopper_data = ShopperData(namespace, machineaccess)\n",
    "shopper_data.get_all_stores(\"\")"
   ]
  },
  {
   "cell_type": "markdown",
   "id": "eb53b967-b827-4227-9086-8d14348cb615",
   "metadata": {},
   "source": [
    "## Add badgeout station"
   ]
  },
  {
   "cell_type": "code",
   "execution_count": null,
   "id": "480274b6-9ff6-453f-a894-c502c23eea46",
   "metadata": {},
   "outputs": [],
   "source": [
    "shopper_data.add_badgeout_station(\"5c46abd4-0718-4930-9655-0c0ea47ae011\", \"fake-station\") # Use update if fails"
   ]
  },
  {
   "cell_type": "code",
   "execution_count": null,
   "id": "5d08c9da-78a5-4f29-a3bf-88016a8ae072",
   "metadata": {},
   "outputs": [],
   "source": [
    "shopper_data.get_badgeout_station(\"fake-station\")"
   ]
  },
  {
   "cell_type": "code",
   "execution_count": null,
   "id": "209ed4fb-7dc8-44fd-aca1-defbb83fac87",
   "metadata": {},
   "outputs": [],
   "source": []
  }
 ],
 "metadata": {
  "kernelspec": {
   "display_name": "Python 3 (ipykernel)",
   "language": "python",
   "name": "python3"
  },
  "language_info": {
   "codemirror_mode": {
    "name": "ipython",
    "version": 3
   },
   "file_extension": ".py",
   "mimetype": "text/x-python",
   "name": "python",
   "nbconvert_exporter": "python",
   "pygments_lexer": "ipython3",
   "version": "3.9.5"
  }
 },
 "nbformat": 4,
 "nbformat_minor": 5
}
